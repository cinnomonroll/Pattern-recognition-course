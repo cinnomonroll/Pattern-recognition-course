{
 "cells": [
  {
   "cell_type": "markdown",
   "metadata": {},
   "source": [
    "UserRepository.kt"
   ]
  },
  {
   "cell_type": "code",
   "execution_count": null,
   "metadata": {},
   "outputs": [],
   "source": [
    "    suspend fun onCustomerCheckOrderStatus(customerCheckOrderStatusParam: CustomerCheckOrderStatusParam): Resource<List<CustomerCheckOrderStatus>>"
   ]
  },
  {
   "cell_type": "markdown",
   "metadata": {},
   "source": [
    "UserRepositoryImpl.kt"
   ]
  },
  {
   "cell_type": "code",
   "execution_count": null,
   "metadata": {},
   "outputs": [],
   "source": [
    "    override suspend fun onCustomerCheckOrderStatus(customerCheckOrderStatusParam: CustomerCheckOrderStatusParam): Resource<CustomerCheckOrderStatus>{\n",
    "        var authToken: String = \"\"\n",
    "        getUserInfo().collectLatest { authToken = it.authToken }\n",
    "        return try {\n",
    "            val response = api.onCustomerCheckOrderStatus(\n",
    "                CustomerCheckOrderStatusRequest(param = customerCheckOrderStatusParam),\n",
    "                authToken = \"Bearer $authToken\"\n",
    "            )\n",
    "            if (response.response.status) {\n",
    "                Resource.Success(response.response.orderStatus)\n",
    "            } else {\n",
    "                Resource.Error(response.response.message)\n",
    "            }\n",
    "        } catch(e: Exception) {\n",
    "            e.printStackTrace()\n",
    "            Resource.Error(e.message ?: \"An unknown error occurred.\")\n",
    "        }\n",
    "    }"
   ]
  },
  {
   "cell_type": "markdown",
   "metadata": {},
   "source": [
    "UserDeliveryScreen"
   ]
  },
  {
   "cell_type": "code",
   "execution_count": null,
   "metadata": {},
   "outputs": [],
   "source": [
    "    val list:CustomerCheckOrderStatusList by userViewModel.CustomerCheckOrderStatusList\n",
    "    LazyColumn() {\n",
    "        items(list.data)\n",
    "        { item ->\n",
    "            Text(text = item.chef_first_name)\n",
    "        }\n",
    "    }\n",
    "\n",
    "\n",
    "    LaunchedEffect(Unit){\n",
    "        while(true) {\n",
    "            userViewModel.onCustomerCheckOrderStatus()\n",
    "            delay(5000)\n",
    "        }\n",
    "    }"
   ]
  },
  {
   "cell_type": "code",
   "execution_count": null,
   "metadata": {},
   "outputs": [],
   "source": [
    "data class CustomerCheckOrderStatusList(\n",
    "    val data: List<CustomerCheckOrderStatus>? = emptyList()\n",
    ")"
   ]
  },
  {
   "cell_type": "markdown",
   "metadata": {},
   "source": [
    "UserViewModel.kt"
   ]
  },
  {
   "cell_type": "code",
   "execution_count": null,
   "metadata": {},
   "outputs": [],
   "source": [
    "    fun onCustomerCheckOrderStatus() {\n",
    "        viewModelScope.launch (Dispatchers.IO) {\n",
    "            when (val result =\n",
    "                userRepository.onCustomerCheckOrderStatus(CustomerCheckOrderStatusParam(userState.value.userInfo.email))\n",
    "            ) {\n",
    "                is Resource.Success -> {\n",
    "                    val CustomerCheckOrderStatusList = result.data\n",
    "                    _CustomerCheckOrderStatusList.value =\n",
    "                        CustomerCheckOrderStatusList(\n",
    "                            CustomerCheckOrderStatusList\n",
    "                        )\n",
    "                }\n",
    "\n",
    "                is Resource.Error -> {\n",
    "                Log.d(\"UserViewModel\", \"checkCustomerOrderStatus Error ${result.message}\")\n",
    "\n",
    "                }\n",
    "            }\n",
    "        }\n",
    "    }"
   ]
  },
  {
   "cell_type": "code",
   "execution_count": null,
   "metadata": {},
   "outputs": [],
   "source": [
    "    override suspend fun onCustomerCheckOrderStatus(customerCheckOrderStatusParam: CustomerCheckOrderStatusParam\n",
    "    ): Resource<List<CustomerCheckOrderStatus>> {\n",
    "        var authToken: String = \"\"\n",
    "        getUserInfo().collectLatest { authToken = it.authToken }\n",
    "        return try {\n",
    "            val response = api.onCustomerCheckOrderStatus(\n",
    "                CustomerCheckOrderStatusRequest(param = CustomerCheckOrderStatusParam((email))),\n",
    "                authToken = \"Bearer $authToken\"\n",
    "            )\n",
    "            if (response.response.status) {\n",
    "                Resource.Success(response.response.orderStatus)\n",
    "            } else {\n",
    "                Resource.Error(response.response.message)\n",
    "            }\n",
    "        } catch (e: Exception) {\n",
    "            e.printStackTrace()\n",
    "            Resource.Error(e.message ?: \"An unknown error occurred.\")\n",
    "        }\n",
    "    }"
   ]
  }
 ],
 "metadata": {
  "language_info": {
   "name": "python"
  }
 },
 "nbformat": 4,
 "nbformat_minor": 2
}
