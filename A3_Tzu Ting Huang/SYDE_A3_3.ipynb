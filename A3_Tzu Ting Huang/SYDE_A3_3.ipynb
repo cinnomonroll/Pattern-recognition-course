{
  "nbformat": 4,
  "nbformat_minor": 0,
  "metadata": {
    "colab": {
      "provenance": []
    },
    "kernelspec": {
      "name": "python3",
      "display_name": "Python 3"
    },
    "language_info": {
      "name": "python"
    }
  },
  "cells": [
    {
      "cell_type": "markdown",
      "source": [
        "In this exercise, you are going to run some experiments involving multi-layer perceptrons (MLPs). You can\n",
        "implement them in Pytorch as well (see the instructions at the beginning of Exercise 2)."
      ],
      "metadata": {
        "id": "I8enf2UWShn7"
      }
    },
    {
      "cell_type": "markdown",
      "source": [
        "1. (12 pts) Implement a three-layer MLP (details below) and train it on the MNIST dataset. The details\n",
        "of the MLP architecture are:\n",
        "- Linear(784, 512) - ReLU\n",
        "- Linear(512, 512) - BatchNorm(512) - ReLU\n",
        "- Linear(512, 10)\n",
        "You should use the cross-entropy loss torch.nn.CrossEntropyLoss at the end. Also, use the SGD\n",
        "optimizer with momentum=0.9.\n",
        "[If you used 600 images per class in Exercise 2, then use the same images here.]\n",
        "Note: You will need to flatten your images from 28×28 to 784×1 vectors, because the MLP expects a\n",
        "vector as an input."
      ],
      "metadata": {
        "id": "UIScFEGi5ZGV"
      }
    },
    {
      "cell_type": "code",
      "source": [
        "import os\n",
        "import numpy as np\n",
        "import torch\n",
        "import torch.nn as nn\n",
        "from torchvision import datasets, transforms, models\n",
        "import pandas as pd\n",
        "from torch.utils.data import DataLoader\n",
        "import time\n",
        "import matplotlib.pyplot as plt\n",
        "import torch.optim as optim\n",
        "from torch.utils.data import random_split"
      ],
      "metadata": {
        "id": "VqUuHUlQsbxj"
      },
      "execution_count": null,
      "outputs": []
    },
    {
      "cell_type": "code",
      "source": [
        "# Define a transform to normalize the data\n",
        "transform = transforms.Compose([transforms.ToTensor(),\n",
        "                                transforms.RandomGrayscale(), ##not sure\n",
        "                                transforms.Normalize((0.5,), (0.5,))])\n",
        "\n",
        "train_data  = datasets.MNIST('~/.pytorch/MNIST_data/', download = True, train = True, transform = transform)\n",
        "test_data  = datasets.MNIST('~/.pytorch/MNIST_data/', download = True, train = False, transform = transform)\n",
        "\n",
        "train_loader = DataLoader(train_data, batch_size = 64, shuffle = True)\n",
        "test_loader = DataLoader(test_data, batch_size = 64, shuffle = False)"
      ],
      "metadata": {
        "colab": {
          "base_uri": "https://localhost:8080/"
        },
        "id": "3NAf91NrselW",
        "outputId": "822c30a3-4c03-4af5-a56d-f366a6b0b734"
      },
      "execution_count": null,
      "outputs": [
        {
          "output_type": "stream",
          "name": "stdout",
          "text": [
            "Downloading http://yann.lecun.com/exdb/mnist/train-images-idx3-ubyte.gz\n",
            "Downloading http://yann.lecun.com/exdb/mnist/train-images-idx3-ubyte.gz to /root/.pytorch/MNIST_data/MNIST/raw/train-images-idx3-ubyte.gz\n"
          ]
        },
        {
          "output_type": "stream",
          "name": "stderr",
          "text": [
            "100%|██████████| 9912422/9912422 [00:00<00:00, 104316643.57it/s]\n"
          ]
        },
        {
          "output_type": "stream",
          "name": "stdout",
          "text": [
            "Extracting /root/.pytorch/MNIST_data/MNIST/raw/train-images-idx3-ubyte.gz to /root/.pytorch/MNIST_data/MNIST/raw\n",
            "\n",
            "Downloading http://yann.lecun.com/exdb/mnist/train-labels-idx1-ubyte.gz\n",
            "Downloading http://yann.lecun.com/exdb/mnist/train-labels-idx1-ubyte.gz to /root/.pytorch/MNIST_data/MNIST/raw/train-labels-idx1-ubyte.gz\n"
          ]
        },
        {
          "output_type": "stream",
          "name": "stderr",
          "text": [
            "100%|██████████| 28881/28881 [00:00<00:00, 49162213.40it/s]\n"
          ]
        },
        {
          "output_type": "stream",
          "name": "stdout",
          "text": [
            "Extracting /root/.pytorch/MNIST_data/MNIST/raw/train-labels-idx1-ubyte.gz to /root/.pytorch/MNIST_data/MNIST/raw\n",
            "\n",
            "Downloading http://yann.lecun.com/exdb/mnist/t10k-images-idx3-ubyte.gz\n",
            "Downloading http://yann.lecun.com/exdb/mnist/t10k-images-idx3-ubyte.gz to /root/.pytorch/MNIST_data/MNIST/raw/t10k-images-idx3-ubyte.gz\n"
          ]
        },
        {
          "output_type": "stream",
          "name": "stderr",
          "text": [
            "100%|██████████| 1648877/1648877 [00:00<00:00, 56684846.62it/s]"
          ]
        },
        {
          "output_type": "stream",
          "name": "stdout",
          "text": [
            "Extracting /root/.pytorch/MNIST_data/MNIST/raw/t10k-images-idx3-ubyte.gz to /root/.pytorch/MNIST_data/MNIST/raw\n"
          ]
        },
        {
          "output_type": "stream",
          "name": "stderr",
          "text": [
            "\n"
          ]
        },
        {
          "output_type": "stream",
          "name": "stdout",
          "text": [
            "\n",
            "Downloading http://yann.lecun.com/exdb/mnist/t10k-labels-idx1-ubyte.gz\n",
            "Downloading http://yann.lecun.com/exdb/mnist/t10k-labels-idx1-ubyte.gz to /root/.pytorch/MNIST_data/MNIST/raw/t10k-labels-idx1-ubyte.gz\n"
          ]
        },
        {
          "output_type": "stream",
          "name": "stderr",
          "text": [
            "100%|██████████| 4542/4542 [00:00<00:00, 10292019.86it/s]\n"
          ]
        },
        {
          "output_type": "stream",
          "name": "stdout",
          "text": [
            "Extracting /root/.pytorch/MNIST_data/MNIST/raw/t10k-labels-idx1-ubyte.gz to /root/.pytorch/MNIST_data/MNIST/raw\n",
            "\n"
          ]
        }
      ]
    },
    {
      "cell_type": "code",
      "source": [
        "class MLP(nn.Module):\n",
        "    def __init__(self):\n",
        "        super(MLP, self).__init__()\n",
        "        self.layers = nn.Sequential(\n",
        "            nn.Linear(784, 512),\n",
        "            nn.ReLU(),\n",
        "            nn.Linear(512, 512),\n",
        "            nn.BatchNorm1d(512),\n",
        "            nn.ReLU(),\n",
        "            nn.Linear(512, 10)\n",
        "        )\n",
        "\n",
        "    def forward(self, x):\n",
        "        x = x.view(x.size(0), -1)  # Flatten the input images\n",
        "        x = self.layers(x)\n",
        "        return x"
      ],
      "metadata": {
        "id": "-aIf91uDt56B"
      },
      "execution_count": null,
      "outputs": []
    },
    {
      "cell_type": "code",
      "source": [
        "model = MLP()\n",
        "criterion = nn.CrossEntropyLoss()\n",
        "optimizer = optim.SGD(model.parameters(), lr=0.01, momentum=0.9)\n",
        "\n",
        "train_losses = []\n",
        "test_losses = []\n",
        "train_acc = []\n",
        "test_acc = []\n",
        "\n",
        "# Train the MLP\n",
        "for epoch in range(20):  # Number of epochs\n",
        "    train_loss = 0.0\n",
        "    train_correct = 0.0\n",
        "    model.train()\n",
        "    for images, labels in train_loader:\n",
        "        optimizer.zero_grad()\n",
        "        output = model(images)\n",
        "        loss = criterion(output, labels)\n",
        "        loss.backward()\n",
        "        optimizer.step()\n",
        "\n",
        "        train_loss += loss.item()\n",
        "        _, predicted = torch.max(output.data, 1)\n",
        "        train_correct += (predicted == labels).sum().item()\n",
        "\n",
        "    train_losses.append(train_loss/len(train_loader))\n",
        "    train_acc.append(100 * train_correct / len(train_loader.dataset))\n",
        "\n",
        "    test_loss = 0.0\n",
        "    test_correct = 0.0\n",
        "    model.eval()\n",
        "    with torch.no_grad():\n",
        "        for images, labels in test_loader:\n",
        "            output = model(images)\n",
        "            loss = criterion(output, labels)\n",
        "            test_loss += loss.item()\n",
        "            _, predicted = torch.max(output.data, 1)\n",
        "            test_correct += (predicted == labels).sum().item()\n",
        "\n",
        "    test_losses.append(test_loss/len(test_loader))\n",
        "    test_acc.append(100 * test_correct / len(test_loader.dataset))\n",
        "\n",
        "    print(f\"Epoch: {epoch+1}, Training Loss: {train_losses[-1]:.4f}, Training Accuracy: {train_acc[-1]:.2f}%, Test Loss: {test_losses[-1]:.4f}, Test Accuracy: {test_acc[-1]:.2f}%\")\n",
        "\n"
      ],
      "metadata": {
        "colab": {
          "base_uri": "https://localhost:8080/"
        },
        "id": "9rxTgPL9x3A-",
        "outputId": "3f4385cc-8fa9-49d9-f7f0-a8a1ce780d42"
      },
      "execution_count": null,
      "outputs": [
        {
          "output_type": "stream",
          "name": "stdout",
          "text": [
            "Epoch: 1, Training Loss: 0.2221, Training Accuracy: 93.34%, Test Loss: 0.1191, Test Accuracy: 96.34%\n",
            "Epoch: 2, Training Loss: 0.1003, Training Accuracy: 97.01%, Test Loss: 0.0986, Test Accuracy: 96.88%\n",
            "Epoch: 3, Training Loss: 0.0703, Training Accuracy: 97.87%, Test Loss: 0.0862, Test Accuracy: 97.24%\n",
            "Epoch: 4, Training Loss: 0.0547, Training Accuracy: 98.30%, Test Loss: 0.0681, Test Accuracy: 97.84%\n",
            "Epoch: 5, Training Loss: 0.0425, Training Accuracy: 98.71%, Test Loss: 0.0776, Test Accuracy: 97.52%\n",
            "Epoch: 6, Training Loss: 0.0352, Training Accuracy: 98.90%, Test Loss: 0.0601, Test Accuracy: 98.03%\n",
            "Epoch: 7, Training Loss: 0.0281, Training Accuracy: 99.15%, Test Loss: 0.0539, Test Accuracy: 98.46%\n",
            "Epoch: 8, Training Loss: 0.0226, Training Accuracy: 99.35%, Test Loss: 0.0642, Test Accuracy: 98.05%\n",
            "Epoch: 9, Training Loss: 0.0204, Training Accuracy: 99.38%, Test Loss: 0.0597, Test Accuracy: 98.12%\n",
            "Epoch: 10, Training Loss: 0.0176, Training Accuracy: 99.44%, Test Loss: 0.0544, Test Accuracy: 98.24%\n",
            "Epoch: 11, Training Loss: 0.0132, Training Accuracy: 99.64%, Test Loss: 0.0593, Test Accuracy: 98.22%\n",
            "Epoch: 12, Training Loss: 0.0103, Training Accuracy: 99.73%, Test Loss: 0.0600, Test Accuracy: 98.23%\n",
            "Epoch: 13, Training Loss: 0.0085, Training Accuracy: 99.80%, Test Loss: 0.0534, Test Accuracy: 98.39%\n",
            "Epoch: 14, Training Loss: 0.0068, Training Accuracy: 99.83%, Test Loss: 0.0592, Test Accuracy: 98.26%\n",
            "Epoch: 15, Training Loss: 0.0062, Training Accuracy: 99.86%, Test Loss: 0.0593, Test Accuracy: 98.26%\n",
            "Epoch: 16, Training Loss: 0.0050, Training Accuracy: 99.91%, Test Loss: 0.0535, Test Accuracy: 98.53%\n",
            "Epoch: 17, Training Loss: 0.0033, Training Accuracy: 99.97%, Test Loss: 0.0536, Test Accuracy: 98.61%\n",
            "Epoch: 18, Training Loss: 0.0031, Training Accuracy: 99.96%, Test Loss: 0.0519, Test Accuracy: 98.50%\n",
            "Epoch: 19, Training Loss: 0.0037, Training Accuracy: 99.92%, Test Loss: 0.0518, Test Accuracy: 98.61%\n",
            "Epoch: 20, Training Loss: 0.0034, Training Accuracy: 99.94%, Test Loss: 0.0502, Test Accuracy: 98.57%\n"
          ]
        }
      ]
    },
    {
      "cell_type": "markdown",
      "source": [
        "2. (3 pts) After the training process, create the following plots:\n",
        "(a) test accuracy vs the number of epochs\n",
        "(b) training accuracy vs the number of epochs\n",
        "(c) test loss vs the number of epochs\n",
        "(d) training loss vs the number of epochs\n",
        "[If timing is a concern, train the neural networks for 20 epochs. Although 20 epochs is not sufficient to\n",
        "reach convergence, it is sufficient to see the trend. You can reduce the number of epochs further if it is\n",
        "infeasible to train for 20 epochs.]"
      ],
      "metadata": {
        "id": "Fbjsmh4c5cGp"
      }
    },
    {
      "cell_type": "code",
      "source": [
        "plt.plot(train_losses)\n",
        "plt.plot(test_losses)\n",
        "plt.title('Loss')\n",
        "plt.legend(['train','test'])\n",
        "plt.savefig('loss.png')\n",
        "plt.show()"
      ],
      "metadata": {
        "colab": {
          "base_uri": "https://localhost:8080/",
          "height": 452
        },
        "id": "tBP1S9gl1cYV",
        "outputId": "6010b0e4-a3ce-4ae6-9ec3-9389336ba71c"
      },
      "execution_count": null,
      "outputs": [
        {
          "output_type": "display_data",
          "data": {
            "text/plain": [
              "<Figure size 640x480 with 1 Axes>"
            ],
            "image/png": "[encoded data removed]"
          },
          "metadata": {}
        }
      ]
    },
    {
      "cell_type": "code",
      "source": [
        "plt.plot(train_acc)\n",
        "plt.plot(test_acc)\n",
        "plt.title('Accuracy')\n",
        "plt.legend(['train','test'])\n",
        "plt.savefig('acc.png')\n",
        "plt.show()"
      ],
      "metadata": {
        "colab": {
          "base_uri": "https://localhost:8080/",
          "height": 452
        },
        "id": "JboKe4Q01oc9",
        "outputId": "0df0aa4c-5322-4b2d-c4dc-14b267cb32b9"
      },
      "execution_count": null,
      "outputs": [
        {
          "output_type": "display_data",
          "data": {
            "text/plain": [
              "<Figure size 640x480 with 1 Axes>"
            ],
            "image/png": "[encoded data removed]"
          },
          "metadata": {}
        }
      ]
    },
    {
      "cell_type": "markdown",
      "source": [
        "3. (5 pts) Compare the accuracies of the MLP and VGG11. Which network is better for MNIST classification\n",
        "and why?"
      ],
      "metadata": {
        "id": "FYYHvjnh5dO6"
      }
    },
    {
      "cell_type": "markdown",
      "source": [
        "Complexity and Computational Cost: VGG11 is a much more complex model than the MLP. It has more layers and many more parameters. This means it will take longer to train and require more computational resources. If you have limited computational resources or if you need to train your model quickly, the MLP might be a better choice.\n",
        "Performance: CNNs like VGG11 are generally better at handling image data than MLPs. They are designed to automatically and adaptively learn spatial hierarchies of features, which is beneficial for image classification tasks. Therefore, VGG11 might give you better performance on the MNIST dataset.\n",
        "Overfitting: Given the complexity of VGG11, it might be more prone to overfitting, especially when the amount of training data is limited. Regularization techniques (like dropout in your VGG11) can help mitigate this. On the other hand, the simpler MLP might be less prone to overfitting.\n",
        "Interpretability: MLPs are generally more interpretable than CNNs. If you need to understand what your model is learning, an MLP might be a better choice.\n",
        "In conclusion, if computational resources and time are not an issue, and you want to achieve the best possible performance, VGG11 might be the better choice for MNIST classification. However, if you prefer a simpler, more interpretable model, or if you have limited computational resources, the MLP might be a better choice. It’s also worth noting that both models can achieve high accuracy on the MNIST dataset, so the practical difference might not be very large. As always, the best way to know which model is better is to try both and compare their performance."
      ],
      "metadata": {
        "id": "kHwgHRDE5in7"
      }
    },
    {
      "cell_type": "markdown",
      "source": [],
      "metadata": {
        "id": "8Y6HlTyGSoLJ"
      }
    }
  ]
}